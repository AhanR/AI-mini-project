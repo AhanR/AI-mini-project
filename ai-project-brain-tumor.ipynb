{
 "cells": [
  {
   "cell_type": "code",
   "execution_count": 1,
   "id": "7abcaaa4",
   "metadata": {
    "_cell_guid": "b1076dfc-b9ad-4769-8c92-a6c4dae69d19",
    "_uuid": "8f2839f25d086af736a60e9eeb907d3b93b6e0e5",
    "execution": {
     "iopub.execute_input": "2023-05-07T14:12:20.270935Z",
     "iopub.status.busy": "2023-05-07T14:12:20.270288Z",
     "iopub.status.idle": "2023-05-07T14:12:20.283225Z",
     "shell.execute_reply": "2023-05-07T14:12:20.282223Z"
    },
    "papermill": {
     "duration": 0.025031,
     "end_time": "2023-05-07T14:12:20.285825",
     "exception": false,
     "start_time": "2023-05-07T14:12:20.260794",
     "status": "completed"
    },
    "tags": []
   },
   "outputs": [],
   "source": [
    "import numpy as np # linear algebra\n",
    "import pandas as pd # data processing, CSV file I/O (e.g. pd.read_csv)\n",
    "\n",
    "import os"
   ]
  },
  {
   "cell_type": "code",
   "execution_count": 2,
   "id": "635befa9",
   "metadata": {
    "execution": {
     "iopub.execute_input": "2023-05-07T14:12:20.300049Z",
     "iopub.status.busy": "2023-05-07T14:12:20.299313Z",
     "iopub.status.idle": "2023-05-07T14:12:28.589160Z",
     "shell.execute_reply": "2023-05-07T14:12:28.587746Z"
    },
    "papermill": {
     "duration": 8.300043,
     "end_time": "2023-05-07T14:12:28.592038",
     "exception": false,
     "start_time": "2023-05-07T14:12:20.291995",
     "status": "completed"
    },
    "tags": []
   },
   "outputs": [],
   "source": [
    "import keras\n",
    "from keras.models import Sequential\n",
    "from keras.layers import Conv2D,Flatten,Dense,MaxPooling2D,Dropout\n",
    "from sklearn.metrics import accuracy_score"
   ]
  },
  {
   "cell_type": "code",
   "execution_count": 3,
   "id": "b64a10c5",
   "metadata": {
    "execution": {
     "iopub.execute_input": "2023-05-07T14:12:28.605342Z",
     "iopub.status.busy": "2023-05-07T14:12:28.604634Z",
     "iopub.status.idle": "2023-05-07T14:12:29.005005Z",
     "shell.execute_reply": "2023-05-07T14:12:29.003514Z"
    },
    "papermill": {
     "duration": 0.410249,
     "end_time": "2023-05-07T14:12:29.007942",
     "exception": false,
     "start_time": "2023-05-07T14:12:28.597693",
     "status": "completed"
    },
    "tags": []
   },
   "outputs": [],
   "source": [
    "import ipywidgets as widgets\n",
    "import io\n",
    "from PIL import Image\n",
    "import tqdm\n",
    "from sklearn.model_selection import train_test_split\n",
    "import cv2\n",
    "from sklearn.utils import shuffle\n",
    "import tensorflow as tf"
   ]
  },
  {
   "cell_type": "code",
   "execution_count": 4,
   "id": "fa0ff87f",
   "metadata": {
    "execution": {
     "iopub.execute_input": "2023-05-07T14:12:29.020931Z",
     "iopub.status.busy": "2023-05-07T14:12:29.020483Z",
     "iopub.status.idle": "2023-05-07T14:13:05.191800Z",
     "shell.execute_reply": "2023-05-07T14:13:05.190532Z"
    },
    "papermill": {
     "duration": 36.180947,
     "end_time": "2023-05-07T14:13:05.194468",
     "exception": false,
     "start_time": "2023-05-07T14:12:29.013521",
     "status": "completed"
    },
    "tags": []
   },
   "outputs": [],
   "source": [
    "X_train = []\n",
    "Y_train = []\n",
    "image_size = 150\n",
    "labels = ['glioma_tumor','meningioma_tumor','no_tumor','pituitary_tumor']\n",
    "for i in labels:\n",
    "    folderPath = os.path.join('../input/brain-tumor-classification-mri/Training',i)\n",
    "    for j in os.listdir(folderPath):\n",
    "        img = cv2.imread(os.path.join(folderPath,j))\n",
    "        img = cv2.resize(img,(image_size,image_size))\n",
    "        X_train.append(img)\n",
    "        Y_train.append(i)\n",
    "        \n",
    "for i in labels:\n",
    "    folderPath = os.path.join('../input/brain-tumor-classification-mri/Testing',i)\n",
    "    for j in os.listdir(folderPath):\n",
    "        img = cv2.imread(os.path.join(folderPath,j))\n",
    "        img = cv2.resize(img,(image_size,image_size))\n",
    "        X_train.append(img)\n",
    "        Y_train.append(i)\n",
    "\n",
    "X_train = np.array(X_train)\n",
    "Y_train = np.array(Y_train)"
   ]
  },
  {
   "cell_type": "code",
   "execution_count": 5,
   "id": "3cd89d0f",
   "metadata": {
    "execution": {
     "iopub.execute_input": "2023-05-07T14:13:05.207994Z",
     "iopub.status.busy": "2023-05-07T14:13:05.207055Z",
     "iopub.status.idle": "2023-05-07T14:13:05.312202Z",
     "shell.execute_reply": "2023-05-07T14:13:05.311000Z"
    },
    "papermill": {
     "duration": 0.114508,
     "end_time": "2023-05-07T14:13:05.314884",
     "exception": false,
     "start_time": "2023-05-07T14:13:05.200376",
     "status": "completed"
    },
    "tags": []
   },
   "outputs": [
    {
     "data": {
      "text/plain": [
       "(3264, 150, 150, 3)"
      ]
     },
     "execution_count": 5,
     "metadata": {},
     "output_type": "execute_result"
    }
   ],
   "source": [
    "X_train,Y_train = shuffle(X_train,Y_train,random_state=101)\n",
    "X_train.shape"
   ]
  },
  {
   "cell_type": "code",
   "execution_count": 6,
   "id": "835a7ea7",
   "metadata": {
    "execution": {
     "iopub.execute_input": "2023-05-07T14:13:05.327731Z",
     "iopub.status.busy": "2023-05-07T14:13:05.327314Z",
     "iopub.status.idle": "2023-05-07T14:13:05.399530Z",
     "shell.execute_reply": "2023-05-07T14:13:05.398314Z"
    },
    "papermill": {
     "duration": 0.081824,
     "end_time": "2023-05-07T14:13:05.402339",
     "exception": false,
     "start_time": "2023-05-07T14:13:05.320515",
     "status": "completed"
    },
    "tags": []
   },
   "outputs": [],
   "source": [
    "X_train,X_test,y_train,y_test = train_test_split(X_train,Y_train,test_size=0.1,random_state=101)"
   ]
  },
  {
   "cell_type": "code",
   "execution_count": 7,
   "id": "16a8352c",
   "metadata": {
    "execution": {
     "iopub.execute_input": "2023-05-07T14:13:05.415811Z",
     "iopub.status.busy": "2023-05-07T14:13:05.414788Z",
     "iopub.status.idle": "2023-05-07T14:13:05.828793Z",
     "shell.execute_reply": "2023-05-07T14:13:05.827551Z"
    },
    "papermill": {
     "duration": 0.423764,
     "end_time": "2023-05-07T14:13:05.831590",
     "exception": false,
     "start_time": "2023-05-07T14:13:05.407826",
     "status": "completed"
    },
    "tags": []
   },
   "outputs": [],
   "source": [
    "y_train_new = []\n",
    "for i in y_train:\n",
    "    y_train_new.append(labels.index(i))\n",
    "y_train=y_train_new\n",
    "y_train = tf.keras.utils.to_categorical(y_train)\n",
    "\n",
    "y_test_new = []\n",
    "for i in y_test:\n",
    "    y_test_new.append(labels.index(i))\n",
    "y_test=y_test_new\n",
    "y_test = tf.keras.utils.to_categorical(y_test)"
   ]
  },
  {
   "cell_type": "code",
   "execution_count": 8,
   "id": "a140c585",
   "metadata": {
    "execution": {
     "iopub.execute_input": "2023-05-07T14:13:05.844636Z",
     "iopub.status.busy": "2023-05-07T14:13:05.844193Z",
     "iopub.status.idle": "2023-05-07T14:13:06.328460Z",
     "shell.execute_reply": "2023-05-07T14:13:06.327521Z"
    },
    "papermill": {
     "duration": 0.49394,
     "end_time": "2023-05-07T14:13:06.331222",
     "exception": false,
     "start_time": "2023-05-07T14:13:05.837282",
     "status": "completed"
    },
    "tags": []
   },
   "outputs": [],
   "source": [
    "model = Sequential()\n",
    "model.add(Conv2D(32,(3,3),activation = 'relu',input_shape=(150,150,3)))\n",
    "model.add(Conv2D(64,(3,3),activation='relu'))\n",
    "model.add(MaxPooling2D(2,2))\n",
    "model.add(Dropout(0.3))\n",
    "model.add(Conv2D(64,(3,3),activation='relu'))\n",
    "model.add(Conv2D(64,(3,3),activation='relu'))\n",
    "model.add(Dropout(0.3))\n",
    "model.add(MaxPooling2D(2,2))\n",
    "model.add(Dropout(0.3))\n",
    "model.add(Flatten())\n",
    "model.add(Dense(512,activation = 'relu'))\n",
    "model.add(Dropout(0.3))\n",
    "model.add(Dense(4,activation='softmax'))"
   ]
  },
  {
   "cell_type": "code",
   "execution_count": 9,
   "id": "c7f5194d",
   "metadata": {
    "execution": {
     "iopub.execute_input": "2023-05-07T14:13:06.344113Z",
     "iopub.status.busy": "2023-05-07T14:13:06.343694Z",
     "iopub.status.idle": "2023-05-07T14:13:06.353078Z",
     "shell.execute_reply": "2023-05-07T14:13:06.351433Z"
    },
    "papermill": {
     "duration": 0.018542,
     "end_time": "2023-05-07T14:13:06.355349",
     "exception": false,
     "start_time": "2023-05-07T14:13:06.336807",
     "status": "completed"
    },
    "tags": []
   },
   "outputs": [
    {
     "name": "stdout",
     "output_type": "stream",
     "text": [
      "Model: \"sequential\"\n",
      "_________________________________________________________________\n",
      "Layer (type)                 Output Shape              Param #   \n",
      "=================================================================\n",
      "conv2d (Conv2D)              (None, 148, 148, 32)      896       \n",
      "_________________________________________________________________\n",
      "conv2d_1 (Conv2D)            (None, 146, 146, 64)      18496     \n",
      "_________________________________________________________________\n",
      "max_pooling2d (MaxPooling2D) (None, 73, 73, 64)        0         \n",
      "_________________________________________________________________\n",
      "dropout (Dropout)            (None, 73, 73, 64)        0         \n",
      "_________________________________________________________________\n",
      "conv2d_2 (Conv2D)            (None, 71, 71, 64)        36928     \n",
      "_________________________________________________________________\n",
      "conv2d_3 (Conv2D)            (None, 69, 69, 64)        36928     \n",
      "_________________________________________________________________\n",
      "dropout_1 (Dropout)          (None, 69, 69, 64)        0         \n",
      "_________________________________________________________________\n",
      "max_pooling2d_1 (MaxPooling2 (None, 34, 34, 64)        0         \n",
      "_________________________________________________________________\n",
      "dropout_2 (Dropout)          (None, 34, 34, 64)        0         \n",
      "_________________________________________________________________\n",
      "flatten (Flatten)            (None, 73984)             0         \n",
      "_________________________________________________________________\n",
      "dense (Dense)                (None, 512)               37880320  \n",
      "_________________________________________________________________\n",
      "dropout_3 (Dropout)          (None, 512)               0         \n",
      "_________________________________________________________________\n",
      "dense_1 (Dense)              (None, 4)                 2052      \n",
      "=================================================================\n",
      "Total params: 37,975,620\n",
      "Trainable params: 37,975,620\n",
      "Non-trainable params: 0\n",
      "_________________________________________________________________\n"
     ]
    }
   ],
   "source": [
    "model.summary()"
   ]
  },
  {
   "cell_type": "code",
   "execution_count": 10,
   "id": "01e87b3c",
   "metadata": {
    "execution": {
     "iopub.execute_input": "2023-05-07T14:13:06.370839Z",
     "iopub.status.busy": "2023-05-07T14:13:06.369876Z",
     "iopub.status.idle": "2023-05-07T14:13:06.385654Z",
     "shell.execute_reply": "2023-05-07T14:13:06.384394Z"
    },
    "papermill": {
     "duration": 0.026027,
     "end_time": "2023-05-07T14:13:06.388657",
     "exception": false,
     "start_time": "2023-05-07T14:13:06.362630",
     "status": "completed"
    },
    "tags": []
   },
   "outputs": [],
   "source": [
    "model.compile(loss='categorical_crossentropy',optimizer='Adam',metrics=['accuracy'])"
   ]
  },
  {
   "cell_type": "code",
   "execution_count": 11,
   "id": "6c88a851",
   "metadata": {
    "execution": {
     "iopub.execute_input": "2023-05-07T14:13:06.401396Z",
     "iopub.status.busy": "2023-05-07T14:13:06.400963Z",
     "iopub.status.idle": "2023-05-07T14:41:17.726009Z",
     "shell.execute_reply": "2023-05-07T14:41:17.724565Z"
    },
    "papermill": {
     "duration": 1691.334688,
     "end_time": "2023-05-07T14:41:17.728884",
     "exception": false,
     "start_time": "2023-05-07T14:13:06.394196",
     "status": "completed"
    },
    "tags": []
   },
   "outputs": [
    {
     "name": "stdout",
     "output_type": "stream",
     "text": [
      "Epoch 1/10\n",
      "83/83 [==============================] - 170s 2s/step - loss: 38.4248 - accuracy: 0.3761 - val_loss: 1.3055 - val_accuracy: 0.5034\n",
      "Epoch 2/10\n",
      "83/83 [==============================] - 168s 2s/step - loss: 1.1015 - accuracy: 0.5486 - val_loss: 0.8925 - val_accuracy: 0.6735\n",
      "Epoch 3/10\n",
      "83/83 [==============================] - 169s 2s/step - loss: 0.8028 - accuracy: 0.6750 - val_loss: 0.7262 - val_accuracy: 0.7143\n",
      "Epoch 4/10\n",
      "83/83 [==============================] - 170s 2s/step - loss: 0.6654 - accuracy: 0.7283 - val_loss: 0.5512 - val_accuracy: 0.8027\n",
      "Epoch 5/10\n",
      "83/83 [==============================] - 168s 2s/step - loss: 0.5204 - accuracy: 0.7972 - val_loss: 0.5199 - val_accuracy: 0.8095\n",
      "Epoch 6/10\n",
      "83/83 [==============================] - 167s 2s/step - loss: 0.4408 - accuracy: 0.8324 - val_loss: 0.4809 - val_accuracy: 0.8333\n",
      "Epoch 7/10\n",
      "83/83 [==============================] - 169s 2s/step - loss: 0.3473 - accuracy: 0.8744 - val_loss: 0.4283 - val_accuracy: 0.8673\n",
      "Epoch 8/10\n",
      "83/83 [==============================] - 171s 2s/step - loss: 0.3000 - accuracy: 0.8956 - val_loss: 0.5111 - val_accuracy: 0.8844\n",
      "Epoch 9/10\n",
      "83/83 [==============================] - 169s 2s/step - loss: 0.2206 - accuracy: 0.9251 - val_loss: 0.4449 - val_accuracy: 0.8776\n",
      "Epoch 10/10\n",
      "83/83 [==============================] - 169s 2s/step - loss: 0.1810 - accuracy: 0.9361 - val_loss: 0.4878 - val_accuracy: 0.8844\n"
     ]
    }
   ],
   "source": [
    "history = model.fit(X_train,y_train,epochs=10,validation_split=0.1)"
   ]
  },
  {
   "cell_type": "code",
   "execution_count": 12,
   "id": "984c9c94",
   "metadata": {
    "execution": {
     "iopub.execute_input": "2023-05-07T14:41:17.846528Z",
     "iopub.status.busy": "2023-05-07T14:41:17.846057Z",
     "iopub.status.idle": "2023-05-07T14:41:17.934794Z",
     "shell.execute_reply": "2023-05-07T14:41:17.933460Z"
    },
    "papermill": {
     "duration": 0.150396,
     "end_time": "2023-05-07T14:41:17.937579",
     "exception": false,
     "start_time": "2023-05-07T14:41:17.787183",
     "status": "completed"
    },
    "tags": []
   },
   "outputs": [],
   "source": [
    "import matplotlib.pyplot as plt\n",
    "import seaborn as sns"
   ]
  },
  {
   "cell_type": "code",
   "execution_count": 13,
   "id": "5f175a7b",
   "metadata": {
    "execution": {
     "iopub.execute_input": "2023-05-07T14:41:18.131565Z",
     "iopub.status.busy": "2023-05-07T14:41:18.131048Z",
     "iopub.status.idle": "2023-05-07T14:41:18.349533Z",
     "shell.execute_reply": "2023-05-07T14:41:18.348343Z"
    },
    "papermill": {
     "duration": 0.356987,
     "end_time": "2023-05-07T14:41:18.352218",
     "exception": false,
     "start_time": "2023-05-07T14:41:17.995231",
     "status": "completed"
    },
    "tags": []
   },
   "outputs": [
    {
     "data": {
      "image/png": "[encoded data removed]",
      "text/plain": [
       "<Figure size 1008x504 with 1 Axes>"
      ]
     },
     "metadata": {
      "needs_background": "light"
     },
     "output_type": "display_data"
    }
   ],
   "source": [
    "#model.save('braintumor.h5')\n",
    "\n",
    "acc = history.history['accuracy']\n",
    "val_acc = history.history['val_accuracy']\n",
    "epochs = range(len(acc))\n",
    "fig = plt.figure(figsize=(14,7))\n",
    "plt.plot(epochs,acc,'r',label=\"Training Accuracy\")\n",
    "plt.plot(epochs,val_acc,'b',label=\"Validation Accuracy\")\n",
    "plt.legend(loc='upper left')\n",
    "plt.show()"
   ]
  },
  {
   "cell_type": "code",
   "execution_count": 14,
   "id": "4026ed81",
   "metadata": {
    "execution": {
     "iopub.execute_input": "2023-05-07T14:41:18.470953Z",
     "iopub.status.busy": "2023-05-07T14:41:18.470304Z",
     "iopub.status.idle": "2023-05-07T14:41:18.706187Z",
     "shell.execute_reply": "2023-05-07T14:41:18.705330Z"
    },
    "papermill": {
     "duration": 0.298318,
     "end_time": "2023-05-07T14:41:18.708668",
     "exception": false,
     "start_time": "2023-05-07T14:41:18.410350",
     "status": "completed"
    },
    "tags": []
   },
   "outputs": [
    {
     "data": {
      "image/png": "[encoded data removed]",
      "text/plain": [
       "<Figure size 1008x504 with 1 Axes>"
      ]
     },
     "metadata": {
      "needs_background": "light"
     },
     "output_type": "display_data"
    }
   ],
   "source": [
    "loss = history.history['loss']\n",
    "val_loss = history.history['val_loss']\n",
    "epochs = range(len(loss))\n",
    "fig = plt.figure(figsize=(14,7))\n",
    "plt.plot(epochs,loss,'r',label=\"Training loss\")\n",
    "plt.plot(epochs,val_loss,'b',label=\"Validation loss\")\n",
    "plt.legend(loc='upper left')\n",
    "plt.show()"
   ]
  },
  {
   "cell_type": "markdown",
   "id": "ac0860e4",
   "metadata": {
    "papermill": {
     "duration": 0.05771,
     "end_time": "2023-05-07T14:41:18.825702",
     "exception": false,
     "start_time": "2023-05-07T14:41:18.767992",
     "status": "completed"
    },
    "tags": []
   },
   "source": [
    "Prediction"
   ]
  },
  {
   "cell_type": "code",
   "execution_count": 15,
   "id": "1a3f01d7",
   "metadata": {
    "execution": {
     "iopub.execute_input": "2023-05-07T14:41:18.946023Z",
     "iopub.status.busy": "2023-05-07T14:41:18.945407Z",
     "iopub.status.idle": "2023-05-07T14:41:18.993778Z",
     "shell.execute_reply": "2023-05-07T14:41:18.992220Z"
    },
    "papermill": {
     "duration": 0.111364,
     "end_time": "2023-05-07T14:41:18.996562",
     "exception": false,
     "start_time": "2023-05-07T14:41:18.885198",
     "status": "completed"
    },
    "tags": []
   },
   "outputs": [
    {
     "data": {
      "text/plain": [
       "(150, 150, 3)"
      ]
     },
     "execution_count": 15,
     "metadata": {},
     "output_type": "execute_result"
    }
   ],
   "source": [
    "img = cv2.imread('../input/brain-tumor-classification-mri/Training/pituitary_tumor/p (107).jpg')\n",
    "img = cv2.resize(img,(150,150))\n",
    "img_array = np.array(img)\n",
    "img_array.shape"
   ]
  },
  {
   "cell_type": "code",
   "execution_count": 16,
   "id": "cd70df8c",
   "metadata": {
    "execution": {
     "iopub.execute_input": "2023-05-07T14:41:19.119137Z",
     "iopub.status.busy": "2023-05-07T14:41:19.117809Z",
     "iopub.status.idle": "2023-05-07T14:41:19.126488Z",
     "shell.execute_reply": "2023-05-07T14:41:19.125314Z"
    },
    "papermill": {
     "duration": 0.073314,
     "end_time": "2023-05-07T14:41:19.128952",
     "exception": false,
     "start_time": "2023-05-07T14:41:19.055638",
     "status": "completed"
    },
    "tags": []
   },
   "outputs": [
    {
     "data": {
      "text/plain": [
       "(1, 150, 150, 3)"
      ]
     },
     "execution_count": 16,
     "metadata": {},
     "output_type": "execute_result"
    }
   ],
   "source": [
    "img_array = img_array.reshape(1,150,150,3)\n",
    "img_array.shape"
   ]
  },
  {
   "cell_type": "code",
   "execution_count": 17,
   "id": "d7e033fc",
   "metadata": {
    "execution": {
     "iopub.execute_input": "2023-05-07T14:41:19.251358Z",
     "iopub.status.busy": "2023-05-07T14:41:19.250008Z",
     "iopub.status.idle": "2023-05-07T14:41:19.497499Z",
     "shell.execute_reply": "2023-05-07T14:41:19.495388Z"
    },
    "papermill": {
     "duration": 0.311618,
     "end_time": "2023-05-07T14:41:19.500355",
     "exception": false,
     "start_time": "2023-05-07T14:41:19.188737",
     "status": "completed"
    },
    "tags": []
   },
   "outputs": [
    {
     "data": {
      "image/png": "[encoded data removed]",
      "text/plain": [
       "<Figure size 432x288 with 1 Axes>"
      ]
     },
     "metadata": {
      "needs_background": "light"
     },
     "output_type": "display_data"
    }
   ],
   "source": [
    "from tensorflow.keras.preprocessing import image\n",
    "img = image.load_img('../input/brain-tumor-classification-mri/Training/pituitary_tumor/p (107).jpg')\n",
    "plt.imshow(img,interpolation='nearest')\n",
    "plt.show()"
   ]
  },
  {
   "cell_type": "code",
   "execution_count": 18,
   "id": "16647672",
   "metadata": {
    "execution": {
     "iopub.execute_input": "2023-05-07T14:41:19.621972Z",
     "iopub.status.busy": "2023-05-07T14:41:19.621369Z",
     "iopub.status.idle": "2023-05-07T14:41:19.826202Z",
     "shell.execute_reply": "2023-05-07T14:41:19.825001Z"
    },
    "papermill": {
     "duration": 0.26846,
     "end_time": "2023-05-07T14:41:19.828748",
     "exception": false,
     "start_time": "2023-05-07T14:41:19.560288",
     "status": "completed"
    },
    "tags": []
   },
   "outputs": [
    {
     "data": {
      "text/plain": [
       "3"
      ]
     },
     "execution_count": 18,
     "metadata": {},
     "output_type": "execute_result"
    }
   ],
   "source": [
    "a=model.predict(img_array)\n",
    "indices = a.argmax()\n",
    "indices"
   ]
  },
  {
   "cell_type": "code",
   "execution_count": null,
   "id": "4ddfa4ee",
   "metadata": {
    "papermill": {
     "duration": 0.058552,
     "end_time": "2023-05-07T14:41:19.946868",
     "exception": false,
     "start_time": "2023-05-07T14:41:19.888316",
     "status": "completed"
    },
    "tags": []
   },
   "outputs": [],
   "source": []
  }
 ],
 "metadata": {
  "kernelspec": {
   "display_name": "Python 3",
   "language": "python",
   "name": "python3"
  },
  "language_info": {
   "codemirror_mode": {
    "name": "ipython",
    "version": 3
   },
   "file_extension": ".py",
   "mimetype": "text/x-python",
   "name": "python",
   "nbconvert_exporter": "python",
   "pygments_lexer": "ipython3",
   "version": "3.7.12"
  },
  "papermill": {
   "default_parameters": {},
   "duration": 1754.142204,
   "end_time": "2023-05-07T14:41:23.763089",
   "environment_variables": {},
   "exception": null,
   "input_path": "__notebook__.ipynb",
   "output_path": "__notebook__.ipynb",
   "parameters": {},
   "start_time": "2023-05-07T14:12:09.620885",
   "version": "2.3.4"
  }
 },
 "nbformat": 4,
 "nbformat_minor": 5
}
